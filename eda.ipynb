{
 "cells": [
  {
   "cell_type": "markdown",
   "metadata": {},
   "source": [
    "# EDA"
   ]
  },
  {
   "cell_type": "code",
   "execution_count": 8,
   "metadata": {},
   "outputs": [
    {
     "data": {
      "application/vnd.jupyter.widget-view+json": {
       "model_id": "14ac7dfd67a14f6d879e8bc4728604f4",
       "version_major": 2,
       "version_minor": 0
      },
      "text/plain": [
       "HBox(children=(FloatProgress(value=0.0, max=60613.0), HTML(value='')))"
      ]
     },
     "metadata": {},
     "output_type": "display_data"
    },
    {
     "name": "stderr",
     "output_type": "stream",
     "text": [
      "/tmp/ipykernel_4715/529510294.py:29: SettingWithCopyWarning: \n",
      "A value is trying to be set on a copy of a slice from a DataFrame\n",
      "\n",
      "See the caveats in the documentation: https://pandas.pydata.org/pandas-docs/stable/user_guide/indexing.html#returning-a-view-versus-a-copy\n",
      "  wiki_corpus['text_length'][i] = len(wiki_corpus['text'][i])\n"
     ]
    },
    {
     "name": "stdout",
     "output_type": "stream",
     "text": [
      "\n"
     ]
    }
   ],
   "source": [
    "import pandas as pd\n",
    "import seaborn as sns\n",
    "import matplotlib\n",
    "import matplotlib.pyplot as plt\n",
    "import numpy as np\n",
    "import random\n",
    "from datasets import load_from_disk\n",
    "import json\n",
    "from tqdm.notebook import tqdm\n",
    "\n",
    "#arrow 파일\n",
    "dataset = load_from_disk(\"./data/train_dataset\")\n",
    "test_dataset = load_from_disk(\"./data/test_dataset\")\n",
    "\n",
    "#DatasetDict에서 가져오기\n",
    "train_dataset = dataset[\"train\"]\n",
    "valid_dataset = dataset[\"validation\"]\n",
    "test_dataset = test_dataset['validation']\n",
    "\n",
    "# DataFrame\n",
    "train_df = pd.DataFrame(train_dataset)\n",
    "valid_df = pd.DataFrame(valid_dataset)\n",
    "test_df = pd.DataFrame(test_dataset)\n",
    "\n",
    "# Retrieval\n",
    "wiki_corpus = pd.read_json(\"/opt/ml/input/data/wikipedia_documents.json\").transpose()\n",
    "wiki_corpus['text_length'] = int()\n",
    "for i in tqdm(range(len(wiki_corpus))) : \n",
    "    wiki_corpus['text_length'][i] = len(wiki_corpus['text'][i])"
   ]
  },
  {
   "cell_type": "markdown",
   "metadata": {},
   "source": [
    "# 데이터셋 확인\n",
    "\n",
    "- 학습 데이터는 3952개의 train 데이터와 240 개의 valid 데이터가 있으며, Retriever가 검색할 수 있는 문서들의 목록인 wikipedia_documents.json가 제공되어있다. train과 valid 데이터에는 [title, context, question, id, answers, document_id, __index_level_0__]로 구성이 된다.\n",
    "- 평가 데이터로는 240개의 public 데이터와 360개의 private 데이터가 제공되었으며, 각각의 데이터는 [query, id]의 형태를 띠고 있다.\n",
    "- wiki_corpus는 60613개의 passage로 구성이 되어있으며 [corpus_source, url, domain, title, author, html, document_id, text_length]로 구성이 되어있다."
   ]
  },
  {
   "cell_type": "code",
   "execution_count": 9,
   "metadata": {},
   "outputs": [
    {
     "data": {
      "text/html": [
       "<div>\n",
       "<style scoped>\n",
       "    .dataframe tbody tr th:only-of-type {\n",
       "        vertical-align: middle;\n",
       "    }\n",
       "\n",
       "    .dataframe tbody tr th {\n",
       "        vertical-align: top;\n",
       "    }\n",
       "\n",
       "    .dataframe thead th {\n",
       "        text-align: right;\n",
       "    }\n",
       "</style>\n",
       "<table border=\"1\" class=\"dataframe\">\n",
       "  <thead>\n",
       "    <tr style=\"text-align: right;\">\n",
       "      <th></th>\n",
       "      <th>title</th>\n",
       "      <th>context</th>\n",
       "      <th>question</th>\n",
       "      <th>id</th>\n",
       "      <th>answers</th>\n",
       "      <th>document_id</th>\n",
       "      <th>__index_level_0__</th>\n",
       "    </tr>\n",
       "  </thead>\n",
       "  <tbody>\n",
       "    <tr>\n",
       "      <th>0</th>\n",
       "      <td>미국 상원</td>\n",
       "      <td>미국 상의원 또는 미국 상원(United States Senate)은 양원제인 미국...</td>\n",
       "      <td>대통령을 포함한 미국의 행정부 견제권을 갖는 국가 기관은?</td>\n",
       "      <td>mrc-1-000067</td>\n",
       "      <td>{'answer_start': [235], 'text': ['하원']}</td>\n",
       "      <td>18293</td>\n",
       "      <td>42</td>\n",
       "    </tr>\n",
       "    <tr>\n",
       "      <th>1</th>\n",
       "      <td>인사조직관리</td>\n",
       "      <td>'근대적 경영학' 또는 '고전적 경영학'에서 현대적 경영학으로 전환되는 시기는 19...</td>\n",
       "      <td>현대적 인사조직관리의 시발점이 된 책은?</td>\n",
       "      <td>mrc-0-004397</td>\n",
       "      <td>{'answer_start': [212], 'text': ['《경영의 실제》']}</td>\n",
       "      <td>51638</td>\n",
       "      <td>2873</td>\n",
       "    </tr>\n",
       "    <tr>\n",
       "      <th>2</th>\n",
       "      <td>강희제</td>\n",
       "      <td>강희제는 강화된 황권으로 거의 황제 중심의 독단적으로 나라를 이끌어 갔기에 자칫 전...</td>\n",
       "      <td>강희제가 1717년에 쓴 글은 누구를 위해 쓰여졌는가?</td>\n",
       "      <td>mrc-1-000362</td>\n",
       "      <td>{'answer_start': [510], 'text': ['백성']}</td>\n",
       "      <td>5028</td>\n",
       "      <td>230</td>\n",
       "    </tr>\n",
       "  </tbody>\n",
       "</table>\n",
       "</div>"
      ],
      "text/plain": [
       "    title                                            context  \\\n",
       "0   미국 상원  미국 상의원 또는 미국 상원(United States Senate)은 양원제인 미국...   \n",
       "1  인사조직관리  '근대적 경영학' 또는 '고전적 경영학'에서 현대적 경영학으로 전환되는 시기는 19...   \n",
       "2     강희제  강희제는 강화된 황권으로 거의 황제 중심의 독단적으로 나라를 이끌어 갔기에 자칫 전...   \n",
       "\n",
       "                           question            id  \\\n",
       "0  대통령을 포함한 미국의 행정부 견제권을 갖는 국가 기관은?  mrc-1-000067   \n",
       "1            현대적 인사조직관리의 시발점이 된 책은?  mrc-0-004397   \n",
       "2    강희제가 1717년에 쓴 글은 누구를 위해 쓰여졌는가?  mrc-1-000362   \n",
       "\n",
       "                                         answers  document_id  \\\n",
       "0        {'answer_start': [235], 'text': ['하원']}        18293   \n",
       "1  {'answer_start': [212], 'text': ['《경영의 실제》']}        51638   \n",
       "2        {'answer_start': [510], 'text': ['백성']}         5028   \n",
       "\n",
       "   __index_level_0__  \n",
       "0                 42  \n",
       "1               2873  \n",
       "2                230  "
      ]
     },
     "execution_count": 9,
     "metadata": {},
     "output_type": "execute_result"
    }
   ],
   "source": [
    "train_df.head(3)"
   ]
  },
  {
   "cell_type": "code",
   "execution_count": 10,
   "metadata": {},
   "outputs": [
    {
     "data": {
      "text/html": [
       "<div>\n",
       "<style scoped>\n",
       "    .dataframe tbody tr th:only-of-type {\n",
       "        vertical-align: middle;\n",
       "    }\n",
       "\n",
       "    .dataframe tbody tr th {\n",
       "        vertical-align: top;\n",
       "    }\n",
       "\n",
       "    .dataframe thead th {\n",
       "        text-align: right;\n",
       "    }\n",
       "</style>\n",
       "<table border=\"1\" class=\"dataframe\">\n",
       "  <thead>\n",
       "    <tr style=\"text-align: right;\">\n",
       "      <th></th>\n",
       "      <th>title</th>\n",
       "      <th>context</th>\n",
       "      <th>question</th>\n",
       "      <th>id</th>\n",
       "      <th>answers</th>\n",
       "      <th>document_id</th>\n",
       "      <th>__index_level_0__</th>\n",
       "    </tr>\n",
       "  </thead>\n",
       "  <tbody>\n",
       "    <tr>\n",
       "      <th>0</th>\n",
       "      <td>전효숙</td>\n",
       "      <td>순천여자고등학교 졸업, 1973년 이화여자대학교를 졸업하고 1975년 제17회 사법...</td>\n",
       "      <td>처음으로 부실 경영인에 대한 보상 선고를 받은 회사는?</td>\n",
       "      <td>mrc-0-003264</td>\n",
       "      <td>{'answer_start': [284], 'text': ['한보철강']}</td>\n",
       "      <td>9027</td>\n",
       "      <td>2146</td>\n",
       "    </tr>\n",
       "    <tr>\n",
       "      <th>1</th>\n",
       "      <td>스토우빌선</td>\n",
       "      <td>요크 카운티 동쪽에 처음으로 여객 열차 운행이 시작한 시점은 1868년 토론토 &amp; ...</td>\n",
       "      <td>스카버러 남쪽과 코보콘그 마을의 철도 노선이 처음 연장된 연도는?</td>\n",
       "      <td>mrc-0-004762</td>\n",
       "      <td>{'answer_start': [146], 'text': ['1871년']}</td>\n",
       "      <td>51765</td>\n",
       "      <td>3106</td>\n",
       "    </tr>\n",
       "    <tr>\n",
       "      <th>2</th>\n",
       "      <td>촐라</td>\n",
       "      <td>촐라 정부\\n 촐라의 정부 체제는 전제군주제였으며,2001 촐라의 군주는 절대적인 ...</td>\n",
       "      <td>촌락에서 운영 위원 후보자 이름을 쓰기위해 사용된 것은?</td>\n",
       "      <td>mrc-1-001810</td>\n",
       "      <td>{'answer_start': [517], 'text': ['나뭇잎']}</td>\n",
       "      <td>15694</td>\n",
       "      <td>1180</td>\n",
       "    </tr>\n",
       "  </tbody>\n",
       "</table>\n",
       "</div>"
      ],
      "text/plain": [
       "   title                                            context  \\\n",
       "0    전효숙  순천여자고등학교 졸업, 1973년 이화여자대학교를 졸업하고 1975년 제17회 사법...   \n",
       "1  스토우빌선  요크 카운티 동쪽에 처음으로 여객 열차 운행이 시작한 시점은 1868년 토론토 & ...   \n",
       "2     촐라  촐라 정부\\n 촐라의 정부 체제는 전제군주제였으며,2001 촐라의 군주는 절대적인 ...   \n",
       "\n",
       "                               question            id  \\\n",
       "0        처음으로 부실 경영인에 대한 보상 선고를 받은 회사는?  mrc-0-003264   \n",
       "1  스카버러 남쪽과 코보콘그 마을의 철도 노선이 처음 연장된 연도는?  mrc-0-004762   \n",
       "2       촌락에서 운영 위원 후보자 이름을 쓰기위해 사용된 것은?  mrc-1-001810   \n",
       "\n",
       "                                      answers  document_id  __index_level_0__  \n",
       "0   {'answer_start': [284], 'text': ['한보철강']}         9027               2146  \n",
       "1  {'answer_start': [146], 'text': ['1871년']}        51765               3106  \n",
       "2    {'answer_start': [517], 'text': ['나뭇잎']}        15694               1180  "
      ]
     },
     "execution_count": 10,
     "metadata": {},
     "output_type": "execute_result"
    }
   ],
   "source": [
    "valid_df.head(3)"
   ]
  },
  {
   "cell_type": "code",
   "execution_count": 11,
   "metadata": {},
   "outputs": [
    {
     "data": {
      "text/html": [
       "<div>\n",
       "<style scoped>\n",
       "    .dataframe tbody tr th:only-of-type {\n",
       "        vertical-align: middle;\n",
       "    }\n",
       "\n",
       "    .dataframe tbody tr th {\n",
       "        vertical-align: top;\n",
       "    }\n",
       "\n",
       "    .dataframe thead th {\n",
       "        text-align: right;\n",
       "    }\n",
       "</style>\n",
       "<table border=\"1\" class=\"dataframe\">\n",
       "  <thead>\n",
       "    <tr style=\"text-align: right;\">\n",
       "      <th></th>\n",
       "      <th>question</th>\n",
       "      <th>id</th>\n",
       "    </tr>\n",
       "  </thead>\n",
       "  <tbody>\n",
       "    <tr>\n",
       "      <th>0</th>\n",
       "      <td>유령'은 어느 행성에서 지구로 왔는가?</td>\n",
       "      <td>mrc-1-000653</td>\n",
       "    </tr>\n",
       "    <tr>\n",
       "      <th>1</th>\n",
       "      <td>용병회사의 경기가 좋아진 것은 무엇이 끝난 이후부터인가?</td>\n",
       "      <td>mrc-1-001113</td>\n",
       "    </tr>\n",
       "    <tr>\n",
       "      <th>2</th>\n",
       "      <td>돌푸스에게 불특정 기간동안 하원이 잠시 쉬는 것을 건의 받았던 인물은?</td>\n",
       "      <td>mrc-0-002191</td>\n",
       "    </tr>\n",
       "  </tbody>\n",
       "</table>\n",
       "</div>"
      ],
      "text/plain": [
       "                                  question            id\n",
       "0                    유령'은 어느 행성에서 지구로 왔는가?  mrc-1-000653\n",
       "1          용병회사의 경기가 좋아진 것은 무엇이 끝난 이후부터인가?  mrc-1-001113\n",
       "2  돌푸스에게 불특정 기간동안 하원이 잠시 쉬는 것을 건의 받았던 인물은?  mrc-0-002191"
      ]
     },
     "execution_count": 11,
     "metadata": {},
     "output_type": "execute_result"
    }
   ],
   "source": [
    "test_df.head(3)"
   ]
  },
  {
   "cell_type": "code",
   "execution_count": 12,
   "metadata": {},
   "outputs": [
    {
     "data": {
      "text/html": [
       "<div>\n",
       "<style scoped>\n",
       "    .dataframe tbody tr th:only-of-type {\n",
       "        vertical-align: middle;\n",
       "    }\n",
       "\n",
       "    .dataframe tbody tr th {\n",
       "        vertical-align: top;\n",
       "    }\n",
       "\n",
       "    .dataframe thead th {\n",
       "        text-align: right;\n",
       "    }\n",
       "</style>\n",
       "<table border=\"1\" class=\"dataframe\">\n",
       "  <thead>\n",
       "    <tr style=\"text-align: right;\">\n",
       "      <th></th>\n",
       "      <th>text</th>\n",
       "      <th>corpus_source</th>\n",
       "      <th>url</th>\n",
       "      <th>domain</th>\n",
       "      <th>title</th>\n",
       "      <th>author</th>\n",
       "      <th>html</th>\n",
       "      <th>document_id</th>\n",
       "      <th>text_length</th>\n",
       "    </tr>\n",
       "  </thead>\n",
       "  <tbody>\n",
       "    <tr>\n",
       "      <th>0</th>\n",
       "      <td>이 문서는 나라 목록이며, 전 세계 206개 나라의 각 현황과 주권 승인 정보를 개...</td>\n",
       "      <td>위키피디아</td>\n",
       "      <td>TODO</td>\n",
       "      <td>None</td>\n",
       "      <td>나라 목록</td>\n",
       "      <td>None</td>\n",
       "      <td>None</td>\n",
       "      <td>0</td>\n",
       "      <td>454</td>\n",
       "    </tr>\n",
       "    <tr>\n",
       "      <th>1</th>\n",
       "      <td>이 목록에 실린 국가 기준은 1933년 몬테비데오 협약 1장을 참고로 하였다. 협정...</td>\n",
       "      <td>위키피디아</td>\n",
       "      <td>TODO</td>\n",
       "      <td>None</td>\n",
       "      <td>나라 목록</td>\n",
       "      <td>None</td>\n",
       "      <td>None</td>\n",
       "      <td>1</td>\n",
       "      <td>2276</td>\n",
       "    </tr>\n",
       "    <tr>\n",
       "      <th>2</th>\n",
       "      <td>현 서울특별시 종로구 서린동 (구 일제 강점기 경기도 경성부 서린정) 출신이다. 친...</td>\n",
       "      <td>위키피디아</td>\n",
       "      <td>TODO</td>\n",
       "      <td>None</td>\n",
       "      <td>백남준</td>\n",
       "      <td>None</td>\n",
       "      <td>None</td>\n",
       "      <td>2</td>\n",
       "      <td>5068</td>\n",
       "    </tr>\n",
       "  </tbody>\n",
       "</table>\n",
       "</div>"
      ],
      "text/plain": [
       "                                                text corpus_source   url  \\\n",
       "0  이 문서는 나라 목록이며, 전 세계 206개 나라의 각 현황과 주권 승인 정보를 개...         위키피디아  TODO   \n",
       "1  이 목록에 실린 국가 기준은 1933년 몬테비데오 협약 1장을 참고로 하였다. 협정...         위키피디아  TODO   \n",
       "2  현 서울특별시 종로구 서린동 (구 일제 강점기 경기도 경성부 서린정) 출신이다. 친...         위키피디아  TODO   \n",
       "\n",
       "  domain  title author  html document_id  text_length  \n",
       "0   None  나라 목록   None  None           0          454  \n",
       "1   None  나라 목록   None  None           1         2276  \n",
       "2   None    백남준   None  None           2         5068  "
      ]
     },
     "execution_count": 12,
     "metadata": {},
     "output_type": "execute_result"
    }
   ],
   "source": [
    "wiki_corpus.head(3)"
   ]
  },
  {
   "cell_type": "markdown",
   "metadata": {},
   "source": [
    "# EDA를 위한 전처리\n",
    "\n",
    "- __index_level_0__는 없앤다\n",
    "- answers를 보기 좋게 한다\n",
    "- answer_token, question_token_length, answer_token_length를 추가한다"
   ]
  },
  {
   "cell_type": "code",
   "execution_count": 13,
   "metadata": {},
   "outputs": [],
   "source": [
    "from transformers import AutoTokenizer\n",
    "\n",
    "tokenizer = AutoTokenizer.from_pretrained(\"klue/roberta-large\")\n",
    "\n",
    "df = train_df\n",
    "answer_start = df.answers.apply(lambda x : x['answer_start'][0])\n",
    "answer = df.answers.apply(lambda x : x['text'][0])\n",
    "context_length = df.context.apply(len)\n",
    "answer_length = answer.apply(len)\n",
    "question_length = df.question.apply(len)\n",
    "\n",
    "question_token_length = df.question.apply(lambda x : len(tokenizer.tokenize(x)))\n",
    "answer_token = answer.apply(lambda x : tokenizer.tokenize(x))\n",
    "answer_token_length = answer_token.apply(len)\n",
    "\n",
    "processed_train_df = pd.DataFrame({'title': df['title'], \n",
    "                        'context' : df['context'], \n",
    "                        'context_length' : context_length,\n",
    "                        'question': df['question'], \n",
    "                        'question_length' : question_length,\n",
    "                        'question_token_length' : question_token_length,\n",
    "                        'answer': answer,\n",
    "                        'answer_start': answer_start, \n",
    "                        'answer_length' : answer_length,\n",
    "                        'answer_token' : answer_token,\n",
    "                        'answer_token_length' : answer_token_length,\n",
    "                        'document_id': df['document_id'], \n",
    "                        })\n",
    "\n",
    "df = valid_df\n",
    "answer_start = df.answers.apply(lambda x : x['answer_start'][0])\n",
    "answer = df.answers.apply(lambda x : x['text'][0])\n",
    "context_length = df.context.apply(len)\n",
    "answer_length = answer.apply(len)\n",
    "question_length = df.question.apply(len)\n",
    "\n",
    "question_token_length = df.question.apply(lambda x : len(tokenizer.tokenize(x)))\n",
    "answer_token = answer.apply(lambda x : tokenizer.tokenize(x))\n",
    "answer_token_length = answer_token.apply(len)\n",
    "\n",
    "processed_valid_df = pd.DataFrame({'title': df['title'], \n",
    "                        'context' : df['context'], \n",
    "                        'context_length' : context_length,\n",
    "                        'question': df['question'], \n",
    "                        'question_length' : question_length,\n",
    "                        'question_token_length' : question_token_length,\n",
    "                        'answer': answer,\n",
    "                        'answer_start': answer_start, \n",
    "                        'answer_length' : answer_length,\n",
    "                        'answer_token' : answer_token,\n",
    "                        'answer_token_length' : answer_token_length,\n",
    "                        'document_id': df['document_id'], \n",
    "                        })\n",
    "\n"
   ]
  },
  {
   "cell_type": "code",
   "execution_count": 14,
   "metadata": {},
   "outputs": [
    {
     "data": {
      "text/html": [
       "<div>\n",
       "<style scoped>\n",
       "    .dataframe tbody tr th:only-of-type {\n",
       "        vertical-align: middle;\n",
       "    }\n",
       "\n",
       "    .dataframe tbody tr th {\n",
       "        vertical-align: top;\n",
       "    }\n",
       "\n",
       "    .dataframe thead th {\n",
       "        text-align: right;\n",
       "    }\n",
       "</style>\n",
       "<table border=\"1\" class=\"dataframe\">\n",
       "  <thead>\n",
       "    <tr style=\"text-align: right;\">\n",
       "      <th></th>\n",
       "      <th>title</th>\n",
       "      <th>context</th>\n",
       "      <th>context_length</th>\n",
       "      <th>question</th>\n",
       "      <th>question_length</th>\n",
       "      <th>question_token_length</th>\n",
       "      <th>answer</th>\n",
       "      <th>answer_start</th>\n",
       "      <th>answer_length</th>\n",
       "      <th>answer_token</th>\n",
       "      <th>answer_token_length</th>\n",
       "      <th>document_id</th>\n",
       "    </tr>\n",
       "  </thead>\n",
       "  <tbody>\n",
       "    <tr>\n",
       "      <th>0</th>\n",
       "      <td>미국 상원</td>\n",
       "      <td>미국 상의원 또는 미국 상원(United States Senate)은 양원제인 미국...</td>\n",
       "      <td>862</td>\n",
       "      <td>대통령을 포함한 미국의 행정부 견제권을 갖는 국가 기관은?</td>\n",
       "      <td>32</td>\n",
       "      <td>16</td>\n",
       "      <td>하원</td>\n",
       "      <td>235</td>\n",
       "      <td>2</td>\n",
       "      <td>[하원]</td>\n",
       "      <td>1</td>\n",
       "      <td>18293</td>\n",
       "    </tr>\n",
       "    <tr>\n",
       "      <th>1</th>\n",
       "      <td>인사조직관리</td>\n",
       "      <td>'근대적 경영학' 또는 '고전적 경영학'에서 현대적 경영학으로 전환되는 시기는 19...</td>\n",
       "      <td>621</td>\n",
       "      <td>현대적 인사조직관리의 시발점이 된 책은?</td>\n",
       "      <td>22</td>\n",
       "      <td>13</td>\n",
       "      <td>《경영의 실제》</td>\n",
       "      <td>212</td>\n",
       "      <td>8</td>\n",
       "      <td>[《, 경영, ##의, 실제, 》]</td>\n",
       "      <td>5</td>\n",
       "      <td>51638</td>\n",
       "    </tr>\n",
       "    <tr>\n",
       "      <th>2</th>\n",
       "      <td>강희제</td>\n",
       "      <td>강희제는 강화된 황권으로 거의 황제 중심의 독단적으로 나라를 이끌어 갔기에 자칫 전...</td>\n",
       "      <td>850</td>\n",
       "      <td>강희제가 1717년에 쓴 글은 누구를 위해 쓰여졌는가?</td>\n",
       "      <td>30</td>\n",
       "      <td>18</td>\n",
       "      <td>백성</td>\n",
       "      <td>510</td>\n",
       "      <td>2</td>\n",
       "      <td>[백성]</td>\n",
       "      <td>1</td>\n",
       "      <td>5028</td>\n",
       "    </tr>\n",
       "    <tr>\n",
       "      <th>3</th>\n",
       "      <td>금동삼존불감</td>\n",
       "      <td>불상을 모시기 위해 나무나 돌, 쇠 등을 깎아 일반적인 건축물보다 작은 규모로 만든...</td>\n",
       "      <td>727</td>\n",
       "      <td>11~12세기에 제작된 본존불은 보통 어떤 나라의 특징이 전파되었나요?</td>\n",
       "      <td>39</td>\n",
       "      <td>23</td>\n",
       "      <td>중국</td>\n",
       "      <td>625</td>\n",
       "      <td>2</td>\n",
       "      <td>[중국]</td>\n",
       "      <td>1</td>\n",
       "      <td>34146</td>\n",
       "    </tr>\n",
       "    <tr>\n",
       "      <th>4</th>\n",
       "      <td>계사명 사리구</td>\n",
       "      <td>동아대학교박물관에서 소장하고 있는 계사명 사리구는 총 4개의 용기로 구성된 조선후기...</td>\n",
       "      <td>609</td>\n",
       "      <td>명문이 적힌 유물을 구성하는 그릇의 총 개수는?</td>\n",
       "      <td>26</td>\n",
       "      <td>14</td>\n",
       "      <td>4개</td>\n",
       "      <td>30</td>\n",
       "      <td>2</td>\n",
       "      <td>[4, ##개]</td>\n",
       "      <td>2</td>\n",
       "      <td>47334</td>\n",
       "    </tr>\n",
       "  </tbody>\n",
       "</table>\n",
       "</div>"
      ],
      "text/plain": [
       "     title                                            context  context_length  \\\n",
       "0    미국 상원  미국 상의원 또는 미국 상원(United States Senate)은 양원제인 미국...             862   \n",
       "1   인사조직관리  '근대적 경영학' 또는 '고전적 경영학'에서 현대적 경영학으로 전환되는 시기는 19...             621   \n",
       "2      강희제  강희제는 강화된 황권으로 거의 황제 중심의 독단적으로 나라를 이끌어 갔기에 자칫 전...             850   \n",
       "3   금동삼존불감  불상을 모시기 위해 나무나 돌, 쇠 등을 깎아 일반적인 건축물보다 작은 규모로 만든...             727   \n",
       "4  계사명 사리구  동아대학교박물관에서 소장하고 있는 계사명 사리구는 총 4개의 용기로 구성된 조선후기...             609   \n",
       "\n",
       "                                  question  question_length  \\\n",
       "0         대통령을 포함한 미국의 행정부 견제권을 갖는 국가 기관은?               32   \n",
       "1                   현대적 인사조직관리의 시발점이 된 책은?               22   \n",
       "2           강희제가 1717년에 쓴 글은 누구를 위해 쓰여졌는가?               30   \n",
       "3  11~12세기에 제작된 본존불은 보통 어떤 나라의 특징이 전파되었나요?               39   \n",
       "4               명문이 적힌 유물을 구성하는 그릇의 총 개수는?               26   \n",
       "\n",
       "   question_token_length    answer  answer_start  answer_length  \\\n",
       "0                     16        하원           235              2   \n",
       "1                     13  《경영의 실제》           212              8   \n",
       "2                     18        백성           510              2   \n",
       "3                     23        중국           625              2   \n",
       "4                     14        4개            30              2   \n",
       "\n",
       "          answer_token  answer_token_length  document_id  \n",
       "0                 [하원]                    1        18293  \n",
       "1  [《, 경영, ##의, 실제, 》]                    5        51638  \n",
       "2                 [백성]                    1         5028  \n",
       "3                 [중국]                    1        34146  \n",
       "4             [4, ##개]                    2        47334  "
      ]
     },
     "execution_count": 14,
     "metadata": {},
     "output_type": "execute_result"
    }
   ],
   "source": [
    "processed_train_df.head(5)"
   ]
  },
  {
   "cell_type": "code",
   "execution_count": 15,
   "metadata": {},
   "outputs": [
    {
     "data": {
      "text/html": [
       "<div>\n",
       "<style scoped>\n",
       "    .dataframe tbody tr th:only-of-type {\n",
       "        vertical-align: middle;\n",
       "    }\n",
       "\n",
       "    .dataframe tbody tr th {\n",
       "        vertical-align: top;\n",
       "    }\n",
       "\n",
       "    .dataframe thead th {\n",
       "        text-align: right;\n",
       "    }\n",
       "</style>\n",
       "<table border=\"1\" class=\"dataframe\">\n",
       "  <thead>\n",
       "    <tr style=\"text-align: right;\">\n",
       "      <th></th>\n",
       "      <th>title</th>\n",
       "      <th>context</th>\n",
       "      <th>context_length</th>\n",
       "      <th>question</th>\n",
       "      <th>question_length</th>\n",
       "      <th>question_token_length</th>\n",
       "      <th>answer</th>\n",
       "      <th>answer_start</th>\n",
       "      <th>answer_length</th>\n",
       "      <th>answer_token</th>\n",
       "      <th>answer_token_length</th>\n",
       "      <th>document_id</th>\n",
       "    </tr>\n",
       "  </thead>\n",
       "  <tbody>\n",
       "    <tr>\n",
       "      <th>0</th>\n",
       "      <td>전효숙</td>\n",
       "      <td>순천여자고등학교 졸업, 1973년 이화여자대학교를 졸업하고 1975년 제17회 사법...</td>\n",
       "      <td>625</td>\n",
       "      <td>처음으로 부실 경영인에 대한 보상 선고를 받은 회사는?</td>\n",
       "      <td>30</td>\n",
       "      <td>14</td>\n",
       "      <td>한보철강</td>\n",
       "      <td>284</td>\n",
       "      <td>4</td>\n",
       "      <td>[한, ##보, ##철, ##강]</td>\n",
       "      <td>4</td>\n",
       "      <td>9027</td>\n",
       "    </tr>\n",
       "    <tr>\n",
       "      <th>1</th>\n",
       "      <td>스토우빌선</td>\n",
       "      <td>요크 카운티 동쪽에 처음으로 여객 열차 운행이 시작한 시점은 1868년 토론토 &amp; ...</td>\n",
       "      <td>964</td>\n",
       "      <td>스카버러 남쪽과 코보콘그 마을의 철도 노선이 처음 연장된 연도는?</td>\n",
       "      <td>36</td>\n",
       "      <td>20</td>\n",
       "      <td>1871년</td>\n",
       "      <td>146</td>\n",
       "      <td>5</td>\n",
       "      <td>[187, ##1, ##년]</td>\n",
       "      <td>3</td>\n",
       "      <td>51765</td>\n",
       "    </tr>\n",
       "    <tr>\n",
       "      <th>2</th>\n",
       "      <td>촐라</td>\n",
       "      <td>촐라 정부\\n 촐라의 정부 체제는 전제군주제였으며,2001 촐라의 군주는 절대적인 ...</td>\n",
       "      <td>611</td>\n",
       "      <td>촌락에서 운영 위원 후보자 이름을 쓰기위해 사용된 것은?</td>\n",
       "      <td>31</td>\n",
       "      <td>16</td>\n",
       "      <td>나뭇잎</td>\n",
       "      <td>517</td>\n",
       "      <td>3</td>\n",
       "      <td>[나뭇잎]</td>\n",
       "      <td>1</td>\n",
       "      <td>15694</td>\n",
       "    </tr>\n",
       "    <tr>\n",
       "      <th>3</th>\n",
       "      <td>백조 기사</td>\n",
       "      <td>프랑스의 십자군 무훈시는 1099년 예루살렘 왕국의 통치자가 된 고드프루아 드 부용...</td>\n",
       "      <td>1391</td>\n",
       "      <td>로타이르가 백조를 구하기 위해 사용한 것은?</td>\n",
       "      <td>24</td>\n",
       "      <td>14</td>\n",
       "      <td>금대야</td>\n",
       "      <td>1109</td>\n",
       "      <td>3</td>\n",
       "      <td>[금, ##대, ##야]</td>\n",
       "      <td>3</td>\n",
       "      <td>59536</td>\n",
       "    </tr>\n",
       "    <tr>\n",
       "      <th>4</th>\n",
       "      <td>탈관료제화</td>\n",
       "      <td>탈관료제화는 현대사회에서 관료제 성격이 약화되는 현상이다. 현대사회에서 관료제는 약...</td>\n",
       "      <td>608</td>\n",
       "      <td>의견을 자유롭게 나누는 것은 조직 내 어떤 관계에서 가능한가?</td>\n",
       "      <td>34</td>\n",
       "      <td>18</td>\n",
       "      <td>수평적 관계</td>\n",
       "      <td>386</td>\n",
       "      <td>6</td>\n",
       "      <td>[수평, ##적, 관계]</td>\n",
       "      <td>3</td>\n",
       "      <td>32991</td>\n",
       "    </tr>\n",
       "  </tbody>\n",
       "</table>\n",
       "</div>"
      ],
      "text/plain": [
       "   title                                            context  context_length  \\\n",
       "0    전효숙  순천여자고등학교 졸업, 1973년 이화여자대학교를 졸업하고 1975년 제17회 사법...             625   \n",
       "1  스토우빌선  요크 카운티 동쪽에 처음으로 여객 열차 운행이 시작한 시점은 1868년 토론토 & ...             964   \n",
       "2     촐라  촐라 정부\\n 촐라의 정부 체제는 전제군주제였으며,2001 촐라의 군주는 절대적인 ...             611   \n",
       "3  백조 기사  프랑스의 십자군 무훈시는 1099년 예루살렘 왕국의 통치자가 된 고드프루아 드 부용...            1391   \n",
       "4  탈관료제화  탈관료제화는 현대사회에서 관료제 성격이 약화되는 현상이다. 현대사회에서 관료제는 약...             608   \n",
       "\n",
       "                               question  question_length  \\\n",
       "0        처음으로 부실 경영인에 대한 보상 선고를 받은 회사는?               30   \n",
       "1  스카버러 남쪽과 코보콘그 마을의 철도 노선이 처음 연장된 연도는?               36   \n",
       "2       촌락에서 운영 위원 후보자 이름을 쓰기위해 사용된 것은?               31   \n",
       "3              로타이르가 백조를 구하기 위해 사용한 것은?               24   \n",
       "4    의견을 자유롭게 나누는 것은 조직 내 어떤 관계에서 가능한가?               34   \n",
       "\n",
       "   question_token_length  answer  answer_start  answer_length  \\\n",
       "0                     14    한보철강           284              4   \n",
       "1                     20   1871년           146              5   \n",
       "2                     16     나뭇잎           517              3   \n",
       "3                     14     금대야          1109              3   \n",
       "4                     18  수평적 관계           386              6   \n",
       "\n",
       "         answer_token  answer_token_length  document_id  \n",
       "0  [한, ##보, ##철, ##강]                    4         9027  \n",
       "1     [187, ##1, ##년]                    3        51765  \n",
       "2               [나뭇잎]                    1        15694  \n",
       "3       [금, ##대, ##야]                    3        59536  \n",
       "4       [수평, ##적, 관계]                    3        32991  "
      ]
     },
     "execution_count": 15,
     "metadata": {},
     "output_type": "execute_result"
    }
   ],
   "source": [
    "processed_valid_df.head(5)"
   ]
  },
  {
   "cell_type": "markdown",
   "metadata": {},
   "source": [
    "# null값 확인\n",
    "\n",
    "null값은 존재하지 않는다"
   ]
  },
  {
   "cell_type": "code",
   "execution_count": 16,
   "metadata": {},
   "outputs": [
    {
     "data": {
      "text/plain": [
       "title                0\n",
       "context              0\n",
       "question             0\n",
       "id                   0\n",
       "answers              0\n",
       "document_id          0\n",
       "__index_level_0__    0\n",
       "dtype: int64"
      ]
     },
     "execution_count": 16,
     "metadata": {},
     "output_type": "execute_result"
    }
   ],
   "source": [
    "train_df.isnull().sum()"
   ]
  },
  {
   "cell_type": "code",
   "execution_count": 17,
   "metadata": {},
   "outputs": [
    {
     "data": {
      "text/plain": [
       "title                0\n",
       "context              0\n",
       "question             0\n",
       "id                   0\n",
       "answers              0\n",
       "document_id          0\n",
       "__index_level_0__    0\n",
       "dtype: int64"
      ]
     },
     "execution_count": 17,
     "metadata": {},
     "output_type": "execute_result"
    }
   ],
   "source": [
    "valid_df.isnull().sum()"
   ]
  },
  {
   "cell_type": "code",
   "execution_count": 18,
   "metadata": {},
   "outputs": [
    {
     "data": {
      "text/plain": [
       "question    0\n",
       "id          0\n",
       "dtype: int64"
      ]
     },
     "execution_count": 18,
     "metadata": {},
     "output_type": "execute_result"
    }
   ],
   "source": [
    "test_df.isnull().sum()"
   ]
  },
  {
   "cell_type": "markdown",
   "metadata": {},
   "source": [
    "# answer에 UNK이 존재하는지 확인"
   ]
  },
  {
   "cell_type": "markdown",
   "metadata": {},
   "source": [
    "- answer가 UNK 처리가 되면 모델은 절대로 answer를 맞출 수 없을 것 이다.\n",
    "- klue/roberta-large tokenizer를 사용했을 때 UNK이 존재하는 train 데이터셋의 answer는 68개이고 valid 데이터셋의 answer는 10개 이다."
   ]
  },
  {
   "cell_type": "code",
   "execution_count": 19,
   "metadata": {},
   "outputs": [
    {
     "name": "stdout",
     "output_type": "stream",
     "text": [
      "number of answers with [UNK]:   68\n"
     ]
    }
   ],
   "source": [
    "count = 0\n",
    "for x in processed_train_df.answer_token:\n",
    "    if '[UNK]' in x:\n",
    "        count += 1\n",
    "\n",
    "print(f\"number of answers with [UNK]:   {count}\")"
   ]
  },
  {
   "cell_type": "code",
   "execution_count": 20,
   "metadata": {},
   "outputs": [
    {
     "name": "stdout",
     "output_type": "stream",
     "text": [
      "number of answers with [UNK]:   10\n"
     ]
    }
   ],
   "source": [
    "count = 0\n",
    "for x in processed_valid_df.answer_token:\n",
    "    if '[UNK]' in x:\n",
    "        count += 1\n",
    "\n",
    "print(f\"number of answers with [UNK]:   {count}\")"
   ]
  },
  {
   "cell_type": "markdown",
   "metadata": {},
   "source": [
    "# answer에 성향을 확인하기"
   ]
  },
  {
   "cell_type": "code",
   "execution_count": 22,
   "metadata": {},
   "outputs": [
    {
     "name": "stdout",
     "output_type": "stream",
     "text": [
      "number of answers with English in train dataset: 115 out of 3952\n",
      "number of answers with English in valid dataset: 6 out of 240\n"
     ]
    }
   ],
   "source": [
    "count = 0 \n",
    "for answer in processed_train_df.answer:\n",
    "    for character in answer:\n",
    "        if (ord('A') <= ord(character) <= ord('Z')) or (ord('a') <= ord(character) <= ord('z')):\n",
    "            count += 1\n",
    "            break\n",
    "\n",
    "print(f\"number of answers with English in train dataset: {count} out of {len(processed_train_df)}\")\n",
    "\n",
    "count = 0 \n",
    "for answer in processed_valid_df.answer:\n",
    "    for character in answer:\n",
    "        if (ord('A') <= ord(character) <= ord('Z')) or (ord('a') <= ord(character) <= ord('z')):\n",
    "            count += 1\n",
    "            break\n",
    "\n",
    "print(f\"number of answers with English in valid dataset: {count} out of {len(processed_valid_df)}\")"
   ]
  },
  {
   "cell_type": "code",
   "execution_count": 23,
   "metadata": {},
   "outputs": [
    {
     "name": "stdout",
     "output_type": "stream",
     "text": [
      "number of answers with numbers in train dataset: 701 out of 3952\n",
      "number of answers with numbers in valid dataset: 35 out of 240\n"
     ]
    }
   ],
   "source": [
    "count = 0 \n",
    "for answer in processed_train_df.answer:\n",
    "    for character in answer:\n",
    "        if ord('0') <= ord(character) <= ord('9'):\n",
    "            count += 1\n",
    "            break\n",
    "\n",
    "print(f\"number of answers with numbers in train dataset: {count} out of {len(processed_train_df)}\")\n",
    "\n",
    "count = 0 \n",
    "for answer in processed_valid_df.answer:\n",
    "    for character in answer:\n",
    "        if ord('0') <= ord(character) <= ord('9'):\n",
    "            count += 1\n",
    "            break\n",
    "\n",
    "print(f\"number of answers with numbers in valid dataset: {count} out of {len(processed_valid_df)}\")"
   ]
  },
  {
   "cell_type": "code",
   "execution_count": 43,
   "metadata": {},
   "outputs": [
    {
     "name": "stdout",
     "output_type": "stream",
     "text": [
      "False\n"
     ]
    }
   ],
   "source": [
    "import hanja\n",
    "from hanja import hangul\n",
    "\n",
    "print(hangul.is_hangul(' '))"
   ]
  },
  {
   "cell_type": "code",
   "execution_count": 49,
   "metadata": {},
   "outputs": [
    {
     "name": "stdout",
     "output_type": "stream",
     "text": [
      "number of answers with just Korean and spaces in train dataset: 2923 out of 3952\n",
      "number of answers with just Korean and spaces in train dataset: 178 out of 240\n"
     ]
    }
   ],
   "source": [
    "import hanja\n",
    "from hanja import hangul\n",
    "\n",
    "count = 0 \n",
    "for answer in processed_train_df.answer:\n",
    "    for character in answer:\n",
    "        if hangul.is_hangul(character)==False and ord(character)!=ord(' '):\n",
    "            count += 1\n",
    "            break\n",
    "\n",
    "\n",
    "print(f\"number of answers with just Korean and spaces in train dataset: {len(processed_train_df) - count} out of {len(processed_train_df)}\")\n",
    "\n",
    "count = 0 \n",
    "for answer in processed_valid_df.answer:\n",
    "    for character in answer:\n",
    "        if hangul.is_hangul(character)==False and ord(character)!=ord(' '):\n",
    "            count += 1\n",
    "            break\n",
    "\n",
    "\n",
    "print(f\"number of answers with just Korean and spaces in train dataset: {len(processed_valid_df) - count} out of {len(processed_valid_df)}\")"
   ]
  },
  {
   "cell_type": "code",
   "execution_count": 51,
   "metadata": {},
   "outputs": [
    {
     "name": "stdout",
     "output_type": "stream",
     "text": [
      "number of answers with hanja in train dataset: 49 out of 3952\n",
      "number of answers with hanja in train dataset: 6 out of 240\n"
     ]
    }
   ],
   "source": [
    "count = 0 \n",
    "for answer in processed_train_df.answer:\n",
    "    for character in answer:\n",
    "        if hanja.is_hanja(character)==True:\n",
    "            count += 1\n",
    "            break\n",
    "\n",
    "\n",
    "print(f\"number of answers with hanja in train dataset: {count} out of {len(processed_train_df)}\")\n",
    "\n",
    "count = 0 \n",
    "for answer in processed_valid_df.answer:\n",
    "    for character in answer:\n",
    "        if hanja.is_hanja(character)==True:\n",
    "            count += 1\n",
    "            break\n",
    "\n",
    "\n",
    "print(f\"number of answers with hanja in train dataset: {count} out of {len(processed_valid_df)}\")"
   ]
  },
  {
   "cell_type": "markdown",
   "metadata": {},
   "source": [
    "# Answer Token Length 확인\n",
    "\n",
    "- 대부분의 답들은 짧다 하지만 max가 49며 상당히 긴 답들도 존재한다\n",
    "- answer가 너무 길면 맞추기 힘들지 않을까라는 생각이 든다"
   ]
  },
  {
   "cell_type": "code",
   "execution_count": 57,
   "metadata": {},
   "outputs": [
    {
     "data": {
      "text/plain": [
       "count    3952.000000\n",
       "mean        3.521255\n",
       "std         2.936699\n",
       "min         1.000000\n",
       "25%         2.000000\n",
       "50%         3.000000\n",
       "75%         4.000000\n",
       "max        49.000000\n",
       "Name: answer_token_length, dtype: float64"
      ]
     },
     "execution_count": 57,
     "metadata": {},
     "output_type": "execute_result"
    }
   ],
   "source": [
    "processed_train_df.answer_token_length.describe()"
   ]
  },
  {
   "cell_type": "code",
   "execution_count": 61,
   "metadata": {},
   "outputs": [
    {
     "data": {
      "text/plain": [
       "<AxesSubplot: xlabel='answer_token_length', ylabel='Count'>"
      ]
     },
     "execution_count": 61,
     "metadata": {},
     "output_type": "execute_result"
    },
    {
     "data": {
      "image/png": "[encoded data removed]",
      "text/plain": [
       "<Figure size 640x480 with 1 Axes>"
      ]
     },
     "metadata": {},
     "output_type": "display_data"
    }
   ],
   "source": [
    "sns.histplot(processed_train_df.answer_token_length, bins = 20)"
   ]
  },
  {
   "cell_type": "markdown",
   "metadata": {},
   "source": [
    "# Question 확인"
   ]
  },
  {
   "cell_type": "code",
   "execution_count": 53,
   "metadata": {},
   "outputs": [
    {
     "data": {
      "text/plain": [
       "count    3952.000000\n",
       "mean       29.322368\n",
       "std         8.727421\n",
       "min         8.000000\n",
       "25%        23.000000\n",
       "50%        29.000000\n",
       "75%        35.000000\n",
       "max        78.000000\n",
       "Name: question_length, dtype: float64"
      ]
     },
     "execution_count": 53,
     "metadata": {},
     "output_type": "execute_result"
    }
   ],
   "source": [
    "processed_train_df.question_length.describe()"
   ]
  },
  {
   "cell_type": "code",
   "execution_count": 54,
   "metadata": {},
   "outputs": [
    {
     "data": {
      "text/plain": [
       "<AxesSubplot: xlabel='question_length', ylabel='Count'>"
      ]
     },
     "execution_count": 54,
     "metadata": {},
     "output_type": "execute_result"
    },
    {
     "data": {
      "image/png": "[encoded data removed]",
      "text/plain": [
       "<Figure size 640x480 with 1 Axes>"
      ]
     },
     "metadata": {},
     "output_type": "display_data"
    }
   ],
   "source": [
    "sns.histplot(processed_train_df.question_length, bins=35)"
   ]
  },
  {
   "cell_type": "code",
   "execution_count": 55,
   "metadata": {},
   "outputs": [
    {
     "data": {
      "text/plain": [
       "count    3952.000000\n",
       "mean       16.298330\n",
       "std         4.544425\n",
       "min         5.000000\n",
       "25%        13.000000\n",
       "50%        16.000000\n",
       "75%        19.000000\n",
       "max        43.000000\n",
       "Name: question_token_length, dtype: float64"
      ]
     },
     "execution_count": 55,
     "metadata": {},
     "output_type": "execute_result"
    }
   ],
   "source": [
    "processed_train_df.question_token_length.describe()"
   ]
  },
  {
   "cell_type": "code",
   "execution_count": 56,
   "metadata": {},
   "outputs": [
    {
     "data": {
      "text/plain": [
       "<AxesSubplot: xlabel='question_token_length', ylabel='Count'>"
      ]
     },
     "execution_count": 56,
     "metadata": {},
     "output_type": "execute_result"
    },
    {
     "data": {
      "image/png": "[encoded data removed]",
      "text/plain": [
       "<Figure size 640x480 with 1 Axes>"
      ]
     },
     "metadata": {},
     "output_type": "display_data"
    }
   ],
   "source": [
    "sns.histplot(processed_train_df.question_token_length, bins=35)"
   ]
  }
 ],
 "metadata": {
  "kernelspec": {
   "display_name": "Python 3.8.0 ('odqa')",
   "language": "python",
   "name": "python3"
  },
  "language_info": {
   "codemirror_mode": {
    "name": "ipython",
    "version": 3
   },
   "file_extension": ".py",
   "mimetype": "text/x-python",
   "name": "python",
   "nbconvert_exporter": "python",
   "pygments_lexer": "ipython3",
   "version": "3.8.0"
  },
  "orig_nbformat": 4,
  "vscode": {
   "interpreter": {
    "hash": "bfd53e8590617575b4a8a164c72e015f37ba5669a80a7e6295d1ce25022b56c8"
   }
  }
 },
 "nbformat": 4,
 "nbformat_minor": 2
}
